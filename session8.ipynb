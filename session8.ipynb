{
  "nbformat": 4,
  "nbformat_minor": 0,
  "metadata": {
    "colab": {
      "name": "Untitled44.ipynb",
      "provenance": [],
      "authorship_tag": "ABX9TyMkIJGMrgPy0GptNerMQqsl",
      "include_colab_link": true
    },
    "kernelspec": {
      "display_name": "Python 3",
      "name": "python3"
    }
  },
  "cells": [
    {
      "cell_type": "markdown",
      "metadata": {
        "id": "view-in-github",
        "colab_type": "text"
      },
      "source": [
        "<a href=\"https://colab.research.google.com/github/Deeksha-Pandit/EVA4-Phase2/blob/master/session8.ipynb\" target=\"_parent\"><img src=\"https://colab.research.google.com/assets/colab-badge.svg\" alt=\"Open In Colab\"/></a>"
      ]
    },
    {
      "cell_type": "code",
      "metadata": {
        "id": "XWgGzt1uZk-g"
      },
      "source": [
        "def func1():\r\n",
        "    '''\r\n",
        "    This function evaluates if this particular docstring is 50 characters in length\r\n",
        "    It uses closure to do this\r\n",
        "    There is a global variable lenDoc which in initialised to 50 and then used inside func2() as a nonlocal variable\r\n",
        "    '''\r\n",
        "    lenDoc = 50\r\n",
        "    def func2():\r\n",
        "        '''\r\n",
        "        This function takes a global variable as nonclocal lenDoc \r\n",
        "        It evaluates if the length of the docstring in func1() is more than 50 character in length \r\n",
        "        Returns True/False depending on the condition satisfied\r\n",
        "        '''\r\n",
        "        nonlocal lenDoc\r\n",
        "        hasDoc = func1.__doc__\r\n",
        "        if len(hasDoc) >= lenDoc:\r\n",
        "            return True\r\n",
        "        else:\r\n",
        "            return False\r\n",
        "    return func2\r\n",
        "#func1()"
      ],
      "execution_count": 74,
      "outputs": []
    },
    {
      "cell_type": "code",
      "metadata": {
        "id": "JQQP0yF8y4Or"
      },
      "source": [
        "def test_check_docstring():\r\n",
        "    f = func1()\r\n",
        "    assert f() == True, \"Please check the docstring length\"\r\n",
        "test_check_docstring()"
      ],
      "execution_count": 75,
      "outputs": []
    },
    {
      "cell_type": "code",
      "metadata": {
        "id": "6ReFZPycOjWg"
      },
      "source": [
        "def fibo():\r\n",
        "    '''\r\n",
        "    This function implements closure to find the next fibonacci number\r\n",
        "    It has 3 global variables - num1,num2 and a\r\n",
        "    Eg. Input 3 -> Output would be 5\r\n",
        "    '''\r\n",
        "    num1 = 0\r\n",
        "    num2 = 1\r\n",
        "    a = 0\r\n",
        "    def in_fibo():\r\n",
        "        '''\r\n",
        "        This function uses 3 nonlocal variables - num1,num2,a\r\n",
        "        If number passed is 0 then returns 0 , if number passed is 1 then returns 1 else returns num1+num2\r\n",
        "        '''\r\n",
        "        nonlocal num1,num2,a\r\n",
        "        if a == 0:\r\n",
        "            a+=1\r\n",
        "            return 0\r\n",
        "        elif a == 1:\r\n",
        "            a+=1\r\n",
        "            return num2\r\n",
        "        else:\r\n",
        "            num1,num2=num2,num1+num2\r\n",
        "            return num2\r\n",
        "    return in_fibo\r\n",
        "#fibo(3)"
      ],
      "execution_count": 65,
      "outputs": []
    },
    {
      "cell_type": "code",
      "metadata": {
        "id": "_wYz6HyUVRJC"
      },
      "source": [
        "def test_check_docstring_fibo():\r\n",
        "    f = fibo()\r\n",
        "    assert f().__doc__, \"Please check the docstring\"\r\n",
        "test_check_docstring_fibo()"
      ],
      "execution_count": 83,
      "outputs": []
    },
    {
      "cell_type": "code",
      "metadata": {
        "id": "ii2Xhcff1sv2"
      },
      "source": [
        "def test_fibo():\r\n",
        "    fib = fibo()\r\n",
        "    assert fib() == 0, \"fibonacci number wrong...\"\r\n",
        "    assert fib() == 1, \"fibonacci number wrong...\"\r\n",
        "    assert fib() == 1, \"fibonacci number wrong...\"\r\n",
        "    assert fib() == 2, \"fibonacci number wrong...\"\r\n",
        "    assert fib() == 3, \"fibonacci number wrong...\"\r\n",
        "    assert fib() == 5, \"fibonacci number wrong...\"\r\n",
        "test_fibo()\r\n"
      ],
      "execution_count": 66,
      "outputs": []
    },
    {
      "cell_type": "code",
      "metadata": {
        "id": "fKaCy4Dl5wR7"
      },
      "source": [
        "dict1 = dict()\r\n",
        "\r\n",
        "def counter_func_out():\r\n",
        "    '''\r\n",
        "    This is a function that implements a closure\r\n",
        "    It takes a dictionary as input and counts the number of times a function has been called\r\n",
        "    '''\r\n",
        "    dict2 = {}\r\n",
        "    def counter_func_in(func1, *args, **kwargs):\r\n",
        "        '''\r\n",
        "        This function calculates the number of times the function is called \r\n",
        "        Stores it in key-value pairs in a dictionary\r\n",
        "        For key it checks name of function using func1.__name__\r\n",
        "        For value it calculates how many times function is called using that particular key\r\n",
        "        '''\r\n",
        "        global dict1\r\n",
        "        nonlocal dict2\r\n",
        "        func_name = func1.__name__\r\n",
        "        count = dict2.get(func_name, 0)\r\n",
        "        dict2[func_name] = count + 1\r\n",
        "        dict1 = dict2\r\n",
        "\r\n",
        "        return func1(*args, **kwargs)\r\n",
        "\r\n",
        "    return counter_func_in"
      ],
      "execution_count": 62,
      "outputs": []
    },
    {
      "cell_type": "code",
      "metadata": {
        "id": "qsqllzhACzY5"
      },
      "source": [
        "def test_func_count():\r\n",
        "\r\n",
        "    def add(a, b):\r\n",
        "        return a+b\r\n",
        "    def mul(a, b):\r\n",
        "        return a*b\r\n",
        "    def div(a,b):\r\n",
        "        if b == 0:\r\n",
        "            raise ValueError(\"Division by 0 error\")\r\n",
        "        else:\r\n",
        "            return a/b\r\n",
        "    fc = counter_func_out()\r\n",
        "    fc(add, 2, 5)\r\n",
        "    fc(add, 2, 5)\r\n",
        "    fc(mul, 2, 5)\r\n",
        "    fc(div,6,3)\r\n",
        "    fc(div,9,3)\r\n",
        "    fc(div,25,5)\r\n",
        "   \r\n",
        "    \r\n",
        "    assert dict1['add'] == 2, \"Wrong closure function\"\r\n",
        "    assert dict1['mul'] == 1, \"Wrong closure function\"\r\n",
        "    assert dict1['div'] == 3, \"Wrong closure function\"\r\n",
        "test_func_count()"
      ],
      "execution_count": 63,
      "outputs": []
    },
    {
      "cell_type": "code",
      "metadata": {
        "id": "ivzecpB5FVbf"
      },
      "source": [
        "import pytest\r\n",
        "def test_func_count_error():\r\n",
        "    with pytest.raises(ValueError):\r\n",
        "        def div(a,b):\r\n",
        "            if b == 0:\r\n",
        "                raise ValueError(\"Division by 0 error\")\r\n",
        "            else:\r\n",
        "                return a/b\r\n",
        "        fc = counter_func_out()\r\n",
        "        fc(div,4,0)\r\n",
        "test_func_count_error()"
      ],
      "execution_count": 64,
      "outputs": []
    },
    {
      "cell_type": "code",
      "metadata": {
        "id": "SqF449hO5wJi"
      },
      "source": [
        "def func_modify(dict_1):\r\n",
        "    '''\r\n",
        "    This is a function that implements a closure\r\n",
        "    It takes a dictionary as input and counts the number of times a function has been called\r\n",
        "    We use different dictionaries here\r\n",
        "    '''\r\n",
        "    if type(dict_1) != dict:\r\n",
        "        raise ValueError(\"dictionary not available!\")\r\n",
        "\r\n",
        "    def func_modified(func2, *args, **kwargs):\r\n",
        "        '''\r\n",
        "        This function calculates the number of times the function is called \r\n",
        "        Stores it in key-value pairs in a dictionary\r\n",
        "        For key it checks name of function using func2.__name__\r\n",
        "        For value it calculates how many times function is called using that particular key\r\n",
        "        '''\r\n",
        "        nonlocal dict_1 \r\n",
        "        func_name = func2.__name__\r\n",
        "        count = dict_1.get(func_name, 0)\r\n",
        "        dict_1[func_name] = count + 1\r\n",
        "\r\n",
        "        return func2(*args, **kwargs)\r\n",
        "\r\n",
        "    return func_modified"
      ],
      "execution_count": 57,
      "outputs": []
    },
    {
      "cell_type": "code",
      "metadata": {
        "id": "cCGYBaJn5wGN"
      },
      "source": [
        "def test_modified():\r\n",
        "\r\n",
        "    def add(a, b):\r\n",
        "        return a+b\r\n",
        "    def mul(a, b):\r\n",
        "        return a*b\r\n",
        "    def div(a,b):\r\n",
        "        if b == 0:\r\n",
        "            raise ValueError(\"Division by 0 error\")\r\n",
        "        else:\r\n",
        "            return a/b\r\n",
        "\r\n",
        "    dict_2 = dict()\r\n",
        "    fc = func_modify(dict_2)\r\n",
        "    fc(add, 2, 5)\r\n",
        "    fc(add, 2, 5)\r\n",
        "    fc(mul, 2, 5)\r\n",
        "    fc(div,6,3)\r\n",
        "    fc(div,9,3)\r\n",
        "    fc(div,25,5)\r\n",
        "   \r\n",
        "    \r\n",
        "    assert dict_2['add'] == 2, \"Wrong closure function\"\r\n",
        "    assert dict_2['mul'] == 1, \"Wrong closure function\"\r\n",
        "    assert dict_2['div'] == 3, \"Wrong closure function\"\r\n",
        "\r\n",
        "    dict_3 = dict()\r\n",
        "    fc = func_modify(dict_3)\r\n",
        "    fc(add, 2, 5)\r\n",
        "    fc(mul, 2, 5)\r\n",
        "    fc(div,25,5)\r\n",
        "    fc(div,15,5)\r\n",
        "    assert dict_3['add'] == 1, \"Wrong closure function\"\r\n",
        "    assert dict_3['mul'] == 1, \"Wrong closure function\"\r\n",
        "    assert dict_3['div'] == 2, \"Wrong closure function\"\r\n",
        "test_modified()"
      ],
      "execution_count": 58,
      "outputs": []
    }
  ]
}